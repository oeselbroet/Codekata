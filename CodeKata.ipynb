{
 "cells": [
  {
   "cell_type": "markdown",
   "metadata": {},
   "source": [
    "# CodeKata Notebook\n",
    "\n",
    "Here I will do some of the tasks stated on http://codekata.com/ just for some personal coding practice"
   ]
  },
  {
   "cell_type": "markdown",
   "metadata": {},
   "source": [
    "## Kata02: Karate Chop\n",
    "\n",
    "The task was to implement a binary search routine using different techniques"
   ]
  },
  {
   "cell_type": "code",
   "execution_count": 17,
   "metadata": {},
   "outputs": [],
   "source": [
    "def assert_int(k,x):\n",
    "    \"\"\"Checks if integer k is in list x and returns corresponding index if true, and -1 else\"\"\"\n",
    "    l = len(x)\n",
    "    i=-1\n",
    "    if k in x:\n",
    "        i=0\n",
    "        while l >= 1:\n",
    "            if k in x[i:i+l-l//2]:\n",
    "                l = l//2\n",
    "            else:\n",
    "                l = l - l//2\n",
    "                i = i + l - l//2\n",
    "    return(i)\n"
   ]
  },
  {
   "cell_type": "code",
   "execution_count": 18,
   "metadata": {},
   "outputs": [],
   "source": [
    "z = [2,4,3,2,7,6,1]"
   ]
  },
  {
   "cell_type": "code",
   "execution_count": 19,
   "metadata": {},
   "outputs": [
    {
     "name": "stdout",
     "output_type": "stream",
     "text": [
      "for 0 assert_int returns -1\n",
      "for 1 assert_int returns 6\n",
      "for 2 assert_int returns 0\n",
      "for 3 assert_int returns 2\n",
      "for 4 assert_int returns 1\n",
      "for 5 assert_int returns -1\n",
      "for 6 assert_int returns 5\n",
      "for 7 assert_int returns 4\n",
      "for 8 assert_int returns -1\n",
      "for 9 assert_int returns -1\n"
     ]
    }
   ],
   "source": [
    "for i in range(10):\n",
    "    print(f\"for {i} assert_int returns {assert_int(i,z)}\")"
   ]
  },
  {
   "cell_type": "markdown",
   "metadata": {},
   "source": [
    "Now, lets do the same in an iterative approach"
   ]
  },
  {
   "cell_type": "code",
   "execution_count": 20,
   "metadata": {},
   "outputs": [],
   "source": [
    "def iter(k,x):\n",
    "    if k not in x:\n",
    "        return -1\n",
    "    l = len(x)\n",
    "    if l == 1:\n",
    "        return 0\n",
    "    else:\n",
    "        if k in x[:l-l//2]:\n",
    "            i = iter(k,x[:l-l//2])         \n",
    "            print(f\"i ist {i} und x ist {x[:l-l//2]}\")\n",
    "            return i\n",
    "        else:\n",
    "            i = iter(k,x[l-l//2:]) \n",
    "            print(f\"i ist {i} und x ist {x[l-l//2:]}\")\n",
    "            return i + l-l//2            \n"
   ]
  },
  {
   "cell_type": "code",
   "execution_count": 21,
   "metadata": {},
   "outputs": [
    {
     "name": "stdout",
     "output_type": "stream",
     "text": [
      "for 0 assert_int returns -1\n",
      "for 1 assert_int returns 6\n",
      "for 2 assert_int returns 0\n",
      "for 3 assert_int returns 2\n",
      "for 4 assert_int returns 1\n",
      "for 5 assert_int returns -1\n",
      "for 6 assert_int returns 5\n",
      "for 7 assert_int returns 4\n",
      "for 8 assert_int returns -1\n",
      "for 9 assert_int returns -1\n"
     ]
    }
   ],
   "source": [
    "for i in range(10):\n",
    "    print(f\"for {i} assert_int returns {assert_int(i,z)}\")"
   ]
  },
  {
   "cell_type": "markdown",
   "metadata": {},
   "source": [
    "## Kata04: Data Munging\n",
    "\n",
    "Here the exercise was to write two functions basically evaluating, where the difference of two columns from a table is minimal."
   ]
  },
  {
   "cell_type": "code",
   "execution_count": 22,
   "metadata": {},
   "outputs": [
    {
     "data": {
      "text/plain": [
       "14"
      ]
     },
     "execution_count": 22,
     "metadata": {},
     "output_type": "execute_result"
    }
   ],
   "source": [
    "import csv\n",
    "import numpy as np\n",
    "from numpy import argmax\n",
    "import pandas as pd\n",
    "\n",
    "\n",
    "def min_delta(path):\n",
    "    dat = [i.split() for i in open(path).readlines()]\n",
    "    dat2 = dat[2:-1]\n",
    "\n",
    "    df = pd.DataFrame()\n",
    "    df['day'] = [int(i[0]) for i in dat2]\n",
    "    df['max_T'] = [int(i[1].strip('*')) for i in dat2]\n",
    "    df['min_T'] = [int(i[2].strip('*')) for i in dat2]\n",
    "    df['delta_T'] = df['max_T'] - df['min_T']\n",
    "    i = df['delta_T'].argmin()\n",
    "    \n",
    "    return df['day'][i] \n",
    "\n",
    "\n",
    "min_delta(\"./weather.dat\")\n"
   ]
  },
  {
   "cell_type": "code",
   "execution_count": 23,
   "metadata": {},
   "outputs": [
    {
     "name": "stdout",
     "output_type": "stream",
     "text": [
      "Leicester\n"
     ]
    }
   ],
   "source": [
    "def min_team(path):\n",
    "    dat = [i.strip().split() for i in open(path).readlines()]\n",
    "    del dat[0]\n",
    "    del dat[17]\n",
    "\n",
    "    df = pd.DataFrame()\n",
    "    df['team'] = [i[1] for i in dat]\n",
    "    df['F'] = [int(i[6]) for i in dat]\n",
    "    df['A'] = [int(i[8]) for i in dat]\n",
    "    df['delta_G'] = df['F'] - df['A']\n",
    "    i = df['delta_G'].argmin()\n",
    "    \n",
    "    print(df['team'][i])\n",
    "\n",
    "\n",
    "min_team(\"./football.dat\")"
   ]
  },
  {
   "cell_type": "markdown",
   "metadata": {},
   "source": [
    "In a second step, we factor out as much common code as possible."
   ]
  },
  {
   "cell_type": "code",
   "execution_count": 24,
   "metadata": {},
   "outputs": [],
   "source": [
    "def weird_fct(path, lines_to_delete, target, upper, lower):\n",
    "    \"\"\"reads a dat-file from path and calculates the value of target, where upper - lower is minimal\"\"\"\n",
    "    dat = [i.strip().split() for i in open(path).readlines()]\n",
    "    lines_to_delete.sort(reverse=True)\n",
    "    for l in lines_to_delete:\n",
    "        del dat[l]\n",
    "    df = pd.DataFrame(dat)\n",
    "    df['delta'] = df[upper].transform(lambda x: int(x.strip('*'))) - df[lower].transform(lambda x: int(x.strip('*')))\n",
    "    i = df['delta'].argmin()\n",
    "    return df[target][i]"
   ]
  },
  {
   "cell_type": "code",
   "execution_count": 25,
   "metadata": {},
   "outputs": [
    {
     "data": {
      "text/plain": [
       "'Leicester'"
      ]
     },
     "execution_count": 25,
     "metadata": {},
     "output_type": "execute_result"
    }
   ],
   "source": [
    "weird_fct(\"./football.dat\", [0,18], 1, 6, 8)"
   ]
  },
  {
   "cell_type": "code",
   "execution_count": 26,
   "metadata": {},
   "outputs": [
    {
     "data": {
      "text/plain": [
       "'14'"
      ]
     },
     "execution_count": 26,
     "metadata": {},
     "output_type": "execute_result"
    }
   ],
   "source": [
    "weird_fct(\"./weather.dat\", [0,1,32], 0, 1, 2)"
   ]
  },
  {
   "cell_type": "markdown",
   "metadata": {},
   "source": [
    "## Kata05: Bloom Filters"
   ]
  },
  {
   "cell_type": "code",
   "execution_count": 27,
   "metadata": {},
   "outputs": [],
   "source": [
    "from bitarray import bitarray\n",
    "from bitarray.util import ba2int, int2ba\n",
    "import mmh3\n",
    "import timeit"
   ]
  },
  {
   "cell_type": "code",
   "execution_count": 28,
   "metadata": {},
   "outputs": [],
   "source": [
    "class BloomFilter():\n",
    "    def __init__(self, word_list, number_hash_fct = 3, length_bitarray = 2**20):\n",
    "        self.word_list = word_list\n",
    "        self.number_hash_fct = number_hash_fct\n",
    "        self.length_bitarray = length_bitarray\n",
    "        self.BA = int2ba(0, length = length_bitarray)\n",
    "\n",
    "        for w in word_list:\n",
    "            for i in range(number_hash_fct):\n",
    "                self.BA[mmh3.hash(w, seed = i) % length_bitarray] = 1\n",
    "\n",
    "    def is_in(self, word):\n",
    "        return all([self.BA[mmh3.hash(word, seed = i) % self.length_bitarray] == 1 for i in range(self.number_hash_fct)])\n",
    "        \n"
   ]
  },
  {
   "cell_type": "code",
   "execution_count": 29,
   "metadata": {},
   "outputs": [],
   "source": [
    "words = [i.strip() for i in open(\"./wordlist.txt\").readlines()]"
   ]
  },
  {
   "cell_type": "code",
   "execution_count": 30,
   "metadata": {},
   "outputs": [],
   "source": [
    "BF = BloomFilter(words)"
   ]
  },
  {
   "cell_type": "code",
   "execution_count": 31,
   "metadata": {},
   "outputs": [
    {
     "name": "stdout",
     "output_type": "stream",
     "text": [
      "2.1 µs ± 42.4 ns per loop (mean ± std. dev. of 7 runs, 100,000 loops each)\n",
      "3.66 ms ± 183 µs per loop (mean ± std. dev. of 7 runs, 100 loops each)\n"
     ]
    }
   ],
   "source": [
    "%timeit BF.is_in('kekson')\n",
    "%timeit 'kekson' in words"
   ]
  },
  {
   "cell_type": "markdown",
   "metadata": {},
   "source": [
    "No, lets check how many false positives we get"
   ]
  },
  {
   "cell_type": "code",
   "execution_count": 32,
   "metadata": {},
   "outputs": [],
   "source": [
    "import string\n",
    "import random\n",
    "\n",
    "def word_gen(length = 5):\n",
    "    \"\"\"Creates a random 'word'\"\"\"\n",
    "    w = ''\n",
    "    for i in range(length):\n",
    "        w += random.choice(string.ascii_letters)\n",
    "    return w"
   ]
  },
  {
   "cell_type": "code",
   "execution_count": 33,
   "metadata": {},
   "outputs": [
    {
     "name": "stdout",
     "output_type": "stream",
     "text": [
      "2475\n"
     ]
    }
   ],
   "source": [
    "i = 0\n",
    "for j in range(10000):\n",
    "    w = word_gen()\n",
    "    if BF.is_in(w) and w not in words:\n",
    "        i += 1\n",
    "\n",
    "print(i)"
   ]
  },
  {
   "cell_type": "markdown",
   "metadata": {},
   "source": [
    "Quite some. Lets try a bigger array"
   ]
  },
  {
   "cell_type": "code",
   "execution_count": 34,
   "metadata": {},
   "outputs": [
    {
     "name": "stdout",
     "output_type": "stream",
     "text": [
      "0\n"
     ]
    }
   ],
   "source": [
    "BF_2 = BloomFilter(words, 3, 2**30)\n",
    "\n",
    "i = 0\n",
    "for j in range(100000):\n",
    "    w = word_gen()\n",
    "    if BF_2.is_in(w) and w not in words:\n",
    "        i += 1\n",
    "\n",
    "print(i)"
   ]
  },
  {
   "cell_type": "markdown",
   "metadata": {},
   "source": [
    "## Kata06: Anagrams\n",
    "\n",
    "Yet to be done"
   ]
  },
  {
   "cell_type": "code",
   "execution_count": 35,
   "metadata": {},
   "outputs": [],
   "source": [
    "# word_sets = [(letter for letter in word) for word in words]\n",
    "# set_of_sets = (word_sets)\n",
    "\n",
    "# non_unique = [word for word in word_sets if word not in set_of_sets]\n"
   ]
  },
  {
   "cell_type": "code",
   "execution_count": null,
   "metadata": {},
   "outputs": [],
   "source": []
  }
 ],
 "metadata": {
  "kernelspec": {
   "display_name": "Python 3.9.13 ('ML_env_1')",
   "language": "python",
   "name": "python3"
  },
  "language_info": {
   "codemirror_mode": {
    "name": "ipython",
    "version": 3
   },
   "file_extension": ".py",
   "mimetype": "text/x-python",
   "name": "python",
   "nbconvert_exporter": "python",
   "pygments_lexer": "ipython3",
   "version": "3.9.13"
  },
  "orig_nbformat": 4,
  "vscode": {
   "interpreter": {
    "hash": "44fb258af88b0d3c6715b77b68e970e097ee266efa50b6adcfe1a45c745e7f47"
   }
  }
 },
 "nbformat": 4,
 "nbformat_minor": 2
}
