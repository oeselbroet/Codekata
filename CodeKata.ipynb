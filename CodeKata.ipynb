{
 "cells": [
  {
   "cell_type": "code",
   "execution_count": 1,
   "metadata": {},
   "outputs": [],
   "source": [
    "import numpy as np"
   ]
  },
  {
   "cell_type": "code",
   "execution_count": 64,
   "metadata": {},
   "outputs": [],
   "source": [
    "def assert_int(k,x):\n",
    "    l = len(x)\n",
    "    i=-1\n",
    "    if k in x:\n",
    "        i=0\n",
    "        while l >= 1:\n",
    "            if k in x[i:i+l-l//2]:\n",
    "                l = l//2\n",
    "            else:\n",
    "                l = l - l//2\n",
    "                i = i + l - l//2\n",
    "    print(i)\n"
   ]
  },
  {
   "cell_type": "code",
   "execution_count": 3,
   "metadata": {},
   "outputs": [
    {
     "data": {
      "text/plain": [
       "[3]"
      ]
     },
     "execution_count": 3,
     "metadata": {},
     "output_type": "execute_result"
    }
   ],
   "source": [
    "z = [2,4,3,2,7,6,1]\n",
    "z[2:3]"
   ]
  },
  {
   "cell_type": "code",
   "execution_count": 69,
   "metadata": {},
   "outputs": [
    {
     "name": "stdout",
     "output_type": "stream",
     "text": [
      "0\n"
     ]
    }
   ],
   "source": [
    "assert_int(2,z)"
   ]
  },
  {
   "cell_type": "code",
   "execution_count": 21,
   "metadata": {},
   "outputs": [],
   "source": [
    "def iter(k,x):\n",
    "    if k not in x:\n",
    "        return -1\n",
    "    l = len(x)\n",
    "    if l == 1:\n",
    "        return 0\n",
    "    else:\n",
    "        if k in x[:l-l//2]:\n",
    "            i = iter(k,x[:l-l//2])         \n",
    "            print(f\"i ist {i} und x ist {x[:l-l//2]}\")\n",
    "            return i\n",
    "        else:\n",
    "            i = iter(k,x[l-l//2:]) \n",
    "            print(f\"i ist {i} und x ist {x[l-l//2:]}\")\n",
    "            return i + l-l//2            \n"
   ]
  },
  {
   "cell_type": "code",
   "execution_count": 24,
   "metadata": {},
   "outputs": [
    {
     "name": "stdout",
     "output_type": "stream",
     "text": [
      "i ist 0 und x ist [6]\n",
      "i ist 1 und x ist [7, 6]\n",
      "i ist 1 und x ist [7, 6, 1]\n"
     ]
    },
    {
     "data": {
      "text/plain": [
       "5"
      ]
     },
     "execution_count": 24,
     "metadata": {},
     "output_type": "execute_result"
    }
   ],
   "source": [
    "iter(6,z)"
   ]
  },
  {
   "cell_type": "code",
   "execution_count": 129,
   "metadata": {},
   "outputs": [
    {
     "data": {
      "text/plain": [
       "14"
      ]
     },
     "execution_count": 129,
     "metadata": {},
     "output_type": "execute_result"
    }
   ],
   "source": [
    "import csv\n",
    "from numpy import argmax\n",
    "import pandas as pd\n",
    "\n",
    "\n",
    "def min_delta(path):\n",
    "    dat = [i.split() for i in open(path).readlines()]\n",
    "    dat2 = dat[2:-1]\n",
    "\n",
    "    df = pd.DataFrame()\n",
    "    df['day'] = [int(i[0]) for i in dat2]\n",
    "    df['max_T'] = [int(i[1].strip('*')) for i in dat2]\n",
    "    df['min_T'] = [int(i[2].strip('*')) for i in dat2]\n",
    "    df['delta_T'] = df['max_T'] - df['min_T']\n",
    "    i = df['delta_T'].argmin()\n",
    "    \n",
    "    return df['day'][i] \n",
    "\n",
    "\n",
    "min_delta(\"./weather.dat\")\n"
   ]
  },
  {
   "cell_type": "code",
   "execution_count": 128,
   "metadata": {},
   "outputs": [
    {
     "name": "stdout",
     "output_type": "stream",
     "text": [
      "Leicester\n"
     ]
    }
   ],
   "source": [
    "def min_team(path):\n",
    "    dat = [i.strip().split() for i in open(path).readlines()]\n",
    "    del dat[0]\n",
    "    del dat[17]\n",
    "\n",
    "    df = pd.DataFrame()\n",
    "    df['team'] = [i[1] for i in dat]\n",
    "    df['F'] = [int(i[6]) for i in dat]\n",
    "    df['A'] = [int(i[8]) for i in dat]\n",
    "    df['delta_G'] = df['F'] - df['A']\n",
    "    i = df['delta_G'].argmin()\n",
    "    \n",
    "    print(df['team'][i])\n",
    "\n",
    "\n",
    "min_team(\"./football.dat\")"
   ]
  },
  {
   "cell_type": "code",
   "execution_count": 163,
   "metadata": {},
   "outputs": [],
   "source": [
    "def weird_fct(path, lines_to_delete, target, upper, lower):\n",
    "    \"\"\"reads a dat-file from path and calculates the value of target, where upper - lower is minimal\"\"\"\n",
    "    dat = [i.strip().split() for i in open(path).readlines()]\n",
    "    lines_to_delete.sort(reverse=True)\n",
    "    for l in lines_to_delete:\n",
    "        del dat[l]\n",
    "    df = pd.DataFrame(dat)\n",
    "    df['delta'] = df[upper].transform(lambda x: int(x.strip('*'))) - df[lower].transform(lambda x: int(x.strip('*')))\n",
    "    i = df['delta'].argmin()\n",
    "    return df[target][i]"
   ]
  },
  {
   "cell_type": "code",
   "execution_count": 165,
   "metadata": {},
   "outputs": [
    {
     "data": {
      "text/plain": [
       "'Leicester'"
      ]
     },
     "execution_count": 165,
     "metadata": {},
     "output_type": "execute_result"
    }
   ],
   "source": [
    "weird_fct(\"./football.dat\", [0,18], 1, 6, 8)"
   ]
  },
  {
   "cell_type": "code",
   "execution_count": 164,
   "metadata": {},
   "outputs": [
    {
     "data": {
      "text/plain": [
       "'14'"
      ]
     },
     "execution_count": 164,
     "metadata": {},
     "output_type": "execute_result"
    }
   ],
   "source": [
    "weird_fct(\"./weather.dat\", [0,1,32], 0, 1, 2)"
   ]
  },
  {
   "cell_type": "code",
   "execution_count": null,
   "metadata": {},
   "outputs": [],
   "source": [
    "lines_to_delete = [0,1,32]\n",
    "dat = [i.strip().split() for i in open(\"./weather.dat\").readlines()]\n",
    "lines_to_delete.sort(reverse=True)\n",
    "for l in lines_to_delete:\n",
    "  del dat[l]\n",
    "df = pd.DataFrame(dat)\n",
    "df"
   ]
  },
  {
   "cell_type": "code",
   "execution_count": 156,
   "metadata": {},
   "outputs": [
    {
     "data": {
      "text/plain": [
       "0     88\n",
       "1     79\n",
       "2     77\n",
       "3     77\n",
       "4     90\n",
       "5     81\n",
       "6     73\n",
       "7     75\n",
       "8     86\n",
       "9     84\n",
       "10    91\n",
       "11    88\n",
       "12    70\n",
       "13    61\n",
       "14    64\n",
       "15    79\n",
       "16    81\n",
       "17    82\n",
       "18    81\n",
       "19    84\n",
       "20    86\n",
       "21    90\n",
       "22    90\n",
       "23    90\n",
       "24    90\n",
       "25    97\n",
       "26    91\n",
       "27    84\n",
       "28    88\n",
       "29    90\n",
       "Name: 1, dtype: int64"
      ]
     },
     "execution_count": 156,
     "metadata": {},
     "output_type": "execute_result"
    }
   ],
   "source": [
    "df[1].transform(lambda x: int(x.strip('*')))"
   ]
  },
  {
   "cell_type": "markdown",
   "metadata": {},
   "source": [
    "## CodeKata05: Bloom Filters"
   ]
  },
  {
   "cell_type": "code",
   "execution_count": 114,
   "metadata": {},
   "outputs": [],
   "source": [
    "from bitarray import bitarray\n",
    "from bitarray.util import ba2int, int2ba\n",
    "import mmh3\n",
    "import timeit"
   ]
  },
  {
   "cell_type": "code",
   "execution_count": 106,
   "metadata": {},
   "outputs": [],
   "source": [
    "class BloomFilter():\n",
    "    def __init__(self, word_list, number_hash_fct = 3, length_bitarray = 2**20):\n",
    "        self.word_list = word_list\n",
    "        self.number_hash_fct = number_hash_fct\n",
    "        self.length_bitarray = length_bitarray\n",
    "        self.BA = int2ba(0, length = length_bitarray)\n",
    "\n",
    "        for w in word_list:\n",
    "            for i in range(number_hash_fct):\n",
    "                self.BA[mmh3.hash(w, seed = i) % length_bitarray] = 1\n",
    "\n",
    "    def is_in(self, word):\n",
    "        return all([self.BA[mmh3.hash(word, seed = i) % self.length_bitarray] == 1 for i in range(self.number_hash_fct)])\n",
    "        \n"
   ]
  },
  {
   "cell_type": "code",
   "execution_count": 97,
   "metadata": {},
   "outputs": [],
   "source": [
    "words = [i.strip() for i in open(\"./wordlist.txt\").readlines()]"
   ]
  },
  {
   "cell_type": "code",
   "execution_count": 123,
   "metadata": {},
   "outputs": [],
   "source": [
    "BF = BloomFilter(words)"
   ]
  },
  {
   "cell_type": "code",
   "execution_count": 125,
   "metadata": {},
   "outputs": [
    {
     "name": "stdout",
     "output_type": "stream",
     "text": [
      "2.27 µs ± 170 ns per loop (mean ± std. dev. of 7 runs, 100,000 loops each)\n",
      "3.91 ms ± 24 µs per loop (mean ± std. dev. of 7 runs, 100 loops each)\n"
     ]
    }
   ],
   "source": [
    "%timeit BF.is_in('kekson')\n",
    "%timeit 'kekson' in words"
   ]
  },
  {
   "cell_type": "markdown",
   "metadata": {},
   "source": [
    "No, lets check how many false positives we get"
   ]
  },
  {
   "cell_type": "code",
   "execution_count": 133,
   "metadata": {},
   "outputs": [],
   "source": [
    "import string\n",
    "import random\n",
    "\n",
    "def word_gen(length = 5):\n",
    "    w = ''\n",
    "    for i in range(length):\n",
    "        w += random.choice(string.ascii_letters)\n",
    "    return w"
   ]
  },
  {
   "cell_type": "code",
   "execution_count": 138,
   "metadata": {},
   "outputs": [
    {
     "name": "stdout",
     "output_type": "stream",
     "text": [
      "24054\n"
     ]
    }
   ],
   "source": [
    "i = 0\n",
    "for j in range(100000):\n",
    "    w = word_gen()\n",
    "    if BF.is_in(w) and w not in words:\n",
    "        i += 1\n",
    "\n",
    "print(i)"
   ]
  },
  {
   "cell_type": "markdown",
   "metadata": {},
   "source": [
    "## Kata06: Anagrams"
   ]
  },
  {
   "cell_type": "code",
   "execution_count": 150,
   "metadata": {},
   "outputs": [],
   "source": [
    "word_sets = [(letter for letter in word) for word in words]\n",
    "set_of_sets = (word_sets)\n"
   ]
  },
  {
   "cell_type": "code",
   "execution_count": 152,
   "metadata": {},
   "outputs": [
    {
     "ename": "KeyboardInterrupt",
     "evalue": "",
     "output_type": "error",
     "traceback": [
      "\u001b[1;31m---------------------------------------------------------------------------\u001b[0m",
      "\u001b[1;31mKeyboardInterrupt\u001b[0m                         Traceback (most recent call last)",
      "\u001b[1;32mUntitled-1.ipynb Zelle 25\u001b[0m in \u001b[0;36m<cell line: 1>\u001b[1;34m()\u001b[0m\n\u001b[1;32m----> <a href='vscode-notebook-cell:Untitled-1.ipynb?jupyter-notebook#Y102sdW50aXRsZWQ%3D?line=0'>1</a>\u001b[0m non_unique \u001b[39m=\u001b[39m [word \u001b[39mfor\u001b[39;00m word \u001b[39min\u001b[39;00m word_sets \u001b[39mif\u001b[39;00m word \u001b[39mnot\u001b[39;00m \u001b[39min\u001b[39;00m set_of_sets]\n",
      "\u001b[1;32mUntitled-1.ipynb Zelle 25\u001b[0m in \u001b[0;36m<listcomp>\u001b[1;34m(.0)\u001b[0m\n\u001b[1;32m----> <a href='vscode-notebook-cell:Untitled-1.ipynb?jupyter-notebook#Y102sdW50aXRsZWQ%3D?line=0'>1</a>\u001b[0m non_unique \u001b[39m=\u001b[39m [word \u001b[39mfor\u001b[39;00m word \u001b[39min\u001b[39;00m word_sets \u001b[39mif\u001b[39;00m word \u001b[39mnot\u001b[39;00m \u001b[39min\u001b[39;00m set_of_sets]\n",
      "\u001b[1;31mKeyboardInterrupt\u001b[0m: "
     ]
    }
   ],
   "source": [
    "non_unique = [word for word in word_sets if word not in set_of_sets]"
   ]
  }
 ],
 "metadata": {
  "kernelspec": {
   "display_name": "Python 3.8.0 ('ML_env')",
   "language": "python",
   "name": "python3"
  },
  "language_info": {
   "codemirror_mode": {
    "name": "ipython",
    "version": 3
   },
   "file_extension": ".py",
   "mimetype": "text/x-python",
   "name": "python",
   "nbconvert_exporter": "python",
   "pygments_lexer": "ipython3",
   "version": "3.8.0"
  },
  "orig_nbformat": 4,
  "vscode": {
   "interpreter": {
    "hash": "60ba3fdb91c8f919b6c8151cca21fb1ad2497697bb04c0958534acba9b1101b3"
   }
  }
 },
 "nbformat": 4,
 "nbformat_minor": 2
}
